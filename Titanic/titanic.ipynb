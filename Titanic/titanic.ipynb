{
 "metadata": {
  "language_info": {
   "codemirror_mode": {
    "name": "ipython",
    "version": 3
   },
   "file_extension": ".py",
   "mimetype": "text/x-python",
   "name": "python",
   "nbconvert_exporter": "python",
   "pygments_lexer": "ipython3",
   "version": "3.7.10"
  },
  "orig_nbformat": 2,
  "kernelspec": {
   "name": "python3710jvsc74a57bd05b2af418f3d6163a263445c79c25db9b77b1fa9e16e6b35a8b33b9b9ef83a3ec",
   "display_name": "Python 3.7.10 64-bit ('myenv': conda)"
  }
 },
 "nbformat": 4,
 "nbformat_minor": 2,
 "cells": [
  {
   "cell_type": "code",
   "execution_count": 4,
   "metadata": {},
   "outputs": [],
   "source": [
    "\"\"\" learning data science using a classic dataset, the Titanic\n",
    "\"\"\"\n",
    "import pandas as pd\n",
    "import numpy as np \n",
    "df_titanic = pd.read_csv('data.csv')\n"
   ]
  },
  {
   "cell_type": "code",
   "execution_count": 5,
   "metadata": {},
   "outputs": [
    {
     "output_type": "execute_result",
     "data": {
      "text/plain": [
       "0      0\n",
       "1      1\n",
       "2      1\n",
       "3      1\n",
       "4      0\n",
       "      ..\n",
       "882    0\n",
       "883    1\n",
       "884    0\n",
       "885    1\n",
       "886    0\n",
       "Name: Survived, Length: 887, dtype: int64"
      ]
     },
     "metadata": {},
     "execution_count": 5
    }
   ],
   "source": [
    "df_titanic['Age']\n",
    "df_titanic['Survived']"
   ]
  },
  {
   "cell_type": "code",
   "execution_count": 12,
   "metadata": {},
   "outputs": [
    {
     "output_type": "execute_result",
     "data": {
      "text/plain": [
       "                                                  Name   Age  Pclass     Fare\n",
       "0                               Mr. Owen Harris Braund  22.0       3   7.2500\n",
       "1    Mrs. John Bradley (Florence Briggs Thayer) Cum...  38.0       1  71.2833\n",
       "2                                Miss. Laina Heikkinen  26.0       3   7.9250\n",
       "3          Mrs. Jacques Heath (Lily May Peel) Futrelle  35.0       1  53.1000\n",
       "4                              Mr. William Henry Allen  35.0       3   8.0500\n",
       "..                                                 ...   ...     ...      ...\n",
       "882                               Rev. Juozas Montvila  27.0       2  13.0000\n",
       "883                        Miss. Margaret Edith Graham  19.0       1  30.0000\n",
       "884                     Miss. Catherine Helen Johnston   7.0       3  23.4500\n",
       "885                               Mr. Karl Howell Behr  26.0       1  30.0000\n",
       "886                                 Mr. Patrick Dooley  32.0       3   7.7500\n",
       "\n",
       "[887 rows x 4 columns]"
      ],
      "text/html": "<div>\n<style scoped>\n    .dataframe tbody tr th:only-of-type {\n        vertical-align: middle;\n    }\n\n    .dataframe tbody tr th {\n        vertical-align: top;\n    }\n\n    .dataframe thead th {\n        text-align: right;\n    }\n</style>\n<table border=\"1\" class=\"dataframe\">\n  <thead>\n    <tr style=\"text-align: right;\">\n      <th></th>\n      <th>Name</th>\n      <th>Age</th>\n      <th>Pclass</th>\n      <th>Fare</th>\n    </tr>\n  </thead>\n  <tbody>\n    <tr>\n      <th>0</th>\n      <td>Mr. Owen Harris Braund</td>\n      <td>22.0</td>\n      <td>3</td>\n      <td>7.2500</td>\n    </tr>\n    <tr>\n      <th>1</th>\n      <td>Mrs. John Bradley (Florence Briggs Thayer) Cum...</td>\n      <td>38.0</td>\n      <td>1</td>\n      <td>71.2833</td>\n    </tr>\n    <tr>\n      <th>2</th>\n      <td>Miss. Laina Heikkinen</td>\n      <td>26.0</td>\n      <td>3</td>\n      <td>7.9250</td>\n    </tr>\n    <tr>\n      <th>3</th>\n      <td>Mrs. Jacques Heath (Lily May Peel) Futrelle</td>\n      <td>35.0</td>\n      <td>1</td>\n      <td>53.1000</td>\n    </tr>\n    <tr>\n      <th>4</th>\n      <td>Mr. William Henry Allen</td>\n      <td>35.0</td>\n      <td>3</td>\n      <td>8.0500</td>\n    </tr>\n    <tr>\n      <th>...</th>\n      <td>...</td>\n      <td>...</td>\n      <td>...</td>\n      <td>...</td>\n    </tr>\n    <tr>\n      <th>882</th>\n      <td>Rev. Juozas Montvila</td>\n      <td>27.0</td>\n      <td>2</td>\n      <td>13.0000</td>\n    </tr>\n    <tr>\n      <th>883</th>\n      <td>Miss. Margaret Edith Graham</td>\n      <td>19.0</td>\n      <td>1</td>\n      <td>30.0000</td>\n    </tr>\n    <tr>\n      <th>884</th>\n      <td>Miss. Catherine Helen Johnston</td>\n      <td>7.0</td>\n      <td>3</td>\n      <td>23.4500</td>\n    </tr>\n    <tr>\n      <th>885</th>\n      <td>Mr. Karl Howell Behr</td>\n      <td>26.0</td>\n      <td>1</td>\n      <td>30.0000</td>\n    </tr>\n    <tr>\n      <th>886</th>\n      <td>Mr. Patrick Dooley</td>\n      <td>32.0</td>\n      <td>3</td>\n      <td>7.7500</td>\n    </tr>\n  </tbody>\n</table>\n<p>887 rows × 4 columns</p>\n</div>"
     },
     "metadata": {},
     "execution_count": 12
    }
   ],
   "source": [
    "'''selecionando mais de uma coluna,  my_df[['coluns aqui']]\r\n",
    "'''\r\n",
    "df_titanic[['Name','Age', 'Pclass', 'Fare']]"
   ]
  },
  {
   "cell_type": "code",
   "execution_count": 14,
   "metadata": {},
   "outputs": [],
   "source": [
    "\"\"\"filtrando somente os homens que estavam a bordo e guardando em um DataFrame\n",
    "\"\"\"\n",
    "filtro_homem = df_titanic['Sex'] == 'male'\n",
    "df_titanic_homens = df_titanic.loc[filtro_homem]\n"
   ]
  },
  {
   "cell_type": "code",
   "execution_count": 16,
   "metadata": {},
   "outputs": [],
   "source": [
    "\"\"\"criando um DataFrame somente com os passageiros que sobreviveram\n",
    "\"\"\"\n",
    "filtro_sobreviventes = df_titanic['Survived'] == 1 \n",
    "df_titanic_sobreviventes = df_titanic.loc[filtro_sobreviventes]"
   ]
  },
  {
   "cell_type": "code",
   "execution_count": 17,
   "metadata": {},
   "outputs": [
    {
     "output_type": "execute_result",
     "data": {
      "text/plain": [
       "     Survived  Pclass                                               Name  \\\n",
       "1           1       1  Mrs. John Bradley (Florence Briggs Thayer) Cum...   \n",
       "2           1       3                              Miss. Laina Heikkinen   \n",
       "3           1       1        Mrs. Jacques Heath (Lily May Peel) Futrelle   \n",
       "8           1       3   Mrs. Oscar W (Elisabeth Vilhelmina Berg) Johnson   \n",
       "9           1       2                 Mrs. Nicholas (Adele Achem) Nasser   \n",
       "..        ...     ...                                                ...   \n",
       "871         1       3                           Miss. Adele Kiamie Najib   \n",
       "875         1       1       Mrs. Thomas Jr (Lily Alexenia Wilson) Potter   \n",
       "876         1       2        Mrs. William (Imanita Parrish Hall) Shelley   \n",
       "883         1       1                        Miss. Margaret Edith Graham   \n",
       "885         1       1                               Mr. Karl Howell Behr   \n",
       "\n",
       "        Sex   Age  Siblings/Spouses Aboard  Parents/Children Aboard     Fare  \n",
       "1    female  38.0                        1                        0  71.2833  \n",
       "2    female  26.0                        0                        0   7.9250  \n",
       "3    female  35.0                        1                        0  53.1000  \n",
       "8    female  27.0                        0                        2  11.1333  \n",
       "9    female  14.0                        1                        0  30.0708  \n",
       "..      ...   ...                      ...                      ...      ...  \n",
       "871  female  15.0                        0                        0   7.2250  \n",
       "875  female  56.0                        0                        1  83.1583  \n",
       "876  female  25.0                        0                        1  26.0000  \n",
       "883  female  19.0                        0                        0  30.0000  \n",
       "885    male  26.0                        0                        0  30.0000  \n",
       "\n",
       "[342 rows x 8 columns]"
      ],
      "text/html": "<div>\n<style scoped>\n    .dataframe tbody tr th:only-of-type {\n        vertical-align: middle;\n    }\n\n    .dataframe tbody tr th {\n        vertical-align: top;\n    }\n\n    .dataframe thead th {\n        text-align: right;\n    }\n</style>\n<table border=\"1\" class=\"dataframe\">\n  <thead>\n    <tr style=\"text-align: right;\">\n      <th></th>\n      <th>Survived</th>\n      <th>Pclass</th>\n      <th>Name</th>\n      <th>Sex</th>\n      <th>Age</th>\n      <th>Siblings/Spouses Aboard</th>\n      <th>Parents/Children Aboard</th>\n      <th>Fare</th>\n    </tr>\n  </thead>\n  <tbody>\n    <tr>\n      <th>1</th>\n      <td>1</td>\n      <td>1</td>\n      <td>Mrs. John Bradley (Florence Briggs Thayer) Cum...</td>\n      <td>female</td>\n      <td>38.0</td>\n      <td>1</td>\n      <td>0</td>\n      <td>71.2833</td>\n    </tr>\n    <tr>\n      <th>2</th>\n      <td>1</td>\n      <td>3</td>\n      <td>Miss. Laina Heikkinen</td>\n      <td>female</td>\n      <td>26.0</td>\n      <td>0</td>\n      <td>0</td>\n      <td>7.9250</td>\n    </tr>\n    <tr>\n      <th>3</th>\n      <td>1</td>\n      <td>1</td>\n      <td>Mrs. Jacques Heath (Lily May Peel) Futrelle</td>\n      <td>female</td>\n      <td>35.0</td>\n      <td>1</td>\n      <td>0</td>\n      <td>53.1000</td>\n    </tr>\n    <tr>\n      <th>8</th>\n      <td>1</td>\n      <td>3</td>\n      <td>Mrs. Oscar W (Elisabeth Vilhelmina Berg) Johnson</td>\n      <td>female</td>\n      <td>27.0</td>\n      <td>0</td>\n      <td>2</td>\n      <td>11.1333</td>\n    </tr>\n    <tr>\n      <th>9</th>\n      <td>1</td>\n      <td>2</td>\n      <td>Mrs. Nicholas (Adele Achem) Nasser</td>\n      <td>female</td>\n      <td>14.0</td>\n      <td>1</td>\n      <td>0</td>\n      <td>30.0708</td>\n    </tr>\n    <tr>\n      <th>...</th>\n      <td>...</td>\n      <td>...</td>\n      <td>...</td>\n      <td>...</td>\n      <td>...</td>\n      <td>...</td>\n      <td>...</td>\n      <td>...</td>\n    </tr>\n    <tr>\n      <th>871</th>\n      <td>1</td>\n      <td>3</td>\n      <td>Miss. Adele Kiamie Najib</td>\n      <td>female</td>\n      <td>15.0</td>\n      <td>0</td>\n      <td>0</td>\n      <td>7.2250</td>\n    </tr>\n    <tr>\n      <th>875</th>\n      <td>1</td>\n      <td>1</td>\n      <td>Mrs. Thomas Jr (Lily Alexenia Wilson) Potter</td>\n      <td>female</td>\n      <td>56.0</td>\n      <td>0</td>\n      <td>1</td>\n      <td>83.1583</td>\n    </tr>\n    <tr>\n      <th>876</th>\n      <td>1</td>\n      <td>2</td>\n      <td>Mrs. William (Imanita Parrish Hall) Shelley</td>\n      <td>female</td>\n      <td>25.0</td>\n      <td>0</td>\n      <td>1</td>\n      <td>26.0000</td>\n    </tr>\n    <tr>\n      <th>883</th>\n      <td>1</td>\n      <td>1</td>\n      <td>Miss. Margaret Edith Graham</td>\n      <td>female</td>\n      <td>19.0</td>\n      <td>0</td>\n      <td>0</td>\n      <td>30.0000</td>\n    </tr>\n    <tr>\n      <th>885</th>\n      <td>1</td>\n      <td>1</td>\n      <td>Mr. Karl Howell Behr</td>\n      <td>male</td>\n      <td>26.0</td>\n      <td>0</td>\n      <td>0</td>\n      <td>30.0000</td>\n    </tr>\n  </tbody>\n</table>\n<p>342 rows × 8 columns</p>\n</div>"
     },
     "metadata": {},
     "execution_count": 17
    }
   ],
   "source": [
    "df_titanic_sobreviventes"
   ]
  },
  {
   "cell_type": "code",
   "execution_count": 26,
   "metadata": {},
   "outputs": [],
   "source": [
    "\"\"\"criando um DataFrame somente com os homens que sobreviveram\n",
    "\"\"\"\n",
    "df_titanic_homens_sobreviventes = df_titanic.loc[(filtro_homem) & (filtro_sobreviventes)]"
   ]
  },
  {
   "cell_type": "code",
   "execution_count": 27,
   "metadata": {},
   "outputs": [
    {
     "output_type": "execute_result",
     "data": {
      "text/plain": [
       "     Survived  Pclass                            Name   Sex   Age  \\\n",
       "17          1       2     Mr. Charles Eugene Williams  male  23.0   \n",
       "21          1       2            Mr. Lawrence Beesley  male  34.0   \n",
       "23          1       1     Mr. William Thompson Sloper  male  28.0   \n",
       "36          1       3                 Mr. Hanna Mamee  male  18.0   \n",
       "54          1       1                Mr. Hugh Woolner  male  46.0   \n",
       "..        ...     ...                             ...   ...   ...   \n",
       "834         1       3                  Mr. Chang Chip  male  32.0   \n",
       "835         1       1             Mr. Pierre Marechal  male  29.0   \n",
       "853         1       1            Mr. Peter Denis Daly  male  51.0   \n",
       "865         1       3  Master. Harold Theodor Johnson  male   4.0   \n",
       "885         1       1            Mr. Karl Howell Behr  male  26.0   \n",
       "\n",
       "     Siblings/Spouses Aboard  Parents/Children Aboard     Fare  \n",
       "17                         0                        0  13.0000  \n",
       "21                         0                        0  13.0000  \n",
       "23                         0                        0  35.5000  \n",
       "36                         0                        0   7.2292  \n",
       "54                         0                        0  35.5000  \n",
       "..                       ...                      ...      ...  \n",
       "834                        0                        0  56.4958  \n",
       "835                        0                        0  29.7000  \n",
       "853                        0                        0  26.5500  \n",
       "865                        1                        1  11.1333  \n",
       "885                        0                        0  30.0000  \n",
       "\n",
       "[109 rows x 8 columns]"
      ],
      "text/html": "<div>\n<style scoped>\n    .dataframe tbody tr th:only-of-type {\n        vertical-align: middle;\n    }\n\n    .dataframe tbody tr th {\n        vertical-align: top;\n    }\n\n    .dataframe thead th {\n        text-align: right;\n    }\n</style>\n<table border=\"1\" class=\"dataframe\">\n  <thead>\n    <tr style=\"text-align: right;\">\n      <th></th>\n      <th>Survived</th>\n      <th>Pclass</th>\n      <th>Name</th>\n      <th>Sex</th>\n      <th>Age</th>\n      <th>Siblings/Spouses Aboard</th>\n      <th>Parents/Children Aboard</th>\n      <th>Fare</th>\n    </tr>\n  </thead>\n  <tbody>\n    <tr>\n      <th>17</th>\n      <td>1</td>\n      <td>2</td>\n      <td>Mr. Charles Eugene Williams</td>\n      <td>male</td>\n      <td>23.0</td>\n      <td>0</td>\n      <td>0</td>\n      <td>13.0000</td>\n    </tr>\n    <tr>\n      <th>21</th>\n      <td>1</td>\n      <td>2</td>\n      <td>Mr. Lawrence Beesley</td>\n      <td>male</td>\n      <td>34.0</td>\n      <td>0</td>\n      <td>0</td>\n      <td>13.0000</td>\n    </tr>\n    <tr>\n      <th>23</th>\n      <td>1</td>\n      <td>1</td>\n      <td>Mr. William Thompson Sloper</td>\n      <td>male</td>\n      <td>28.0</td>\n      <td>0</td>\n      <td>0</td>\n      <td>35.5000</td>\n    </tr>\n    <tr>\n      <th>36</th>\n      <td>1</td>\n      <td>3</td>\n      <td>Mr. Hanna Mamee</td>\n      <td>male</td>\n      <td>18.0</td>\n      <td>0</td>\n      <td>0</td>\n      <td>7.2292</td>\n    </tr>\n    <tr>\n      <th>54</th>\n      <td>1</td>\n      <td>1</td>\n      <td>Mr. Hugh Woolner</td>\n      <td>male</td>\n      <td>46.0</td>\n      <td>0</td>\n      <td>0</td>\n      <td>35.5000</td>\n    </tr>\n    <tr>\n      <th>...</th>\n      <td>...</td>\n      <td>...</td>\n      <td>...</td>\n      <td>...</td>\n      <td>...</td>\n      <td>...</td>\n      <td>...</td>\n      <td>...</td>\n    </tr>\n    <tr>\n      <th>834</th>\n      <td>1</td>\n      <td>3</td>\n      <td>Mr. Chang Chip</td>\n      <td>male</td>\n      <td>32.0</td>\n      <td>0</td>\n      <td>0</td>\n      <td>56.4958</td>\n    </tr>\n    <tr>\n      <th>835</th>\n      <td>1</td>\n      <td>1</td>\n      <td>Mr. Pierre Marechal</td>\n      <td>male</td>\n      <td>29.0</td>\n      <td>0</td>\n      <td>0</td>\n      <td>29.7000</td>\n    </tr>\n    <tr>\n      <th>853</th>\n      <td>1</td>\n      <td>1</td>\n      <td>Mr. Peter Denis Daly</td>\n      <td>male</td>\n      <td>51.0</td>\n      <td>0</td>\n      <td>0</td>\n      <td>26.5500</td>\n    </tr>\n    <tr>\n      <th>865</th>\n      <td>1</td>\n      <td>3</td>\n      <td>Master. Harold Theodor Johnson</td>\n      <td>male</td>\n      <td>4.0</td>\n      <td>1</td>\n      <td>1</td>\n      <td>11.1333</td>\n    </tr>\n    <tr>\n      <th>885</th>\n      <td>1</td>\n      <td>1</td>\n      <td>Mr. Karl Howell Behr</td>\n      <td>male</td>\n      <td>26.0</td>\n      <td>0</td>\n      <td>0</td>\n      <td>30.0000</td>\n    </tr>\n  </tbody>\n</table>\n<p>109 rows × 8 columns</p>\n</div>"
     },
     "metadata": {},
     "execution_count": 27
    }
   ],
   "source": [
    "df_titanic_homens_sobreviventes"
   ]
  },
  {
   "cell_type": "code",
   "execution_count": 28,
   "metadata": {},
   "outputs": [
    {
     "output_type": "execute_result",
     "data": {
      "text/plain": [
       "     Survived  Pclass                                               Name  \\\n",
       "1           1       1  Mrs. John Bradley (Florence Briggs Thayer) Cum...   \n",
       "3           1       1        Mrs. Jacques Heath (Lily May Peel) Futrelle   \n",
       "9           1       2                 Mrs. Nicholas (Adele Achem) Nasser   \n",
       "11          1       1                            Miss. Elizabeth Bonnell   \n",
       "15          1       2                     Mrs. (Mary D Kingcome) Hewlett   \n",
       "..        ...     ...                                                ...   \n",
       "867         1       1    Mrs. Richard Leonard (Sallie Monypeny) Beckwith   \n",
       "870         1       2               Mrs. Samuel (Hannah Wizosky) Abelson   \n",
       "875         1       1       Mrs. Thomas Jr (Lily Alexenia Wilson) Potter   \n",
       "876         1       2        Mrs. William (Imanita Parrish Hall) Shelley   \n",
       "883         1       1                        Miss. Margaret Edith Graham   \n",
       "\n",
       "        Sex   Age  Siblings/Spouses Aboard  Parents/Children Aboard     Fare  \n",
       "1    female  38.0                        1                        0  71.2833  \n",
       "3    female  35.0                        1                        0  53.1000  \n",
       "9    female  14.0                        1                        0  30.0708  \n",
       "11   female  58.0                        0                        0  26.5500  \n",
       "15   female  55.0                        0                        0  16.0000  \n",
       "..      ...   ...                      ...                      ...      ...  \n",
       "867  female  47.0                        1                        1  52.5542  \n",
       "870  female  28.0                        1                        0  24.0000  \n",
       "875  female  56.0                        0                        1  83.1583  \n",
       "876  female  25.0                        0                        1  26.0000  \n",
       "883  female  19.0                        0                        0  30.0000  \n",
       "\n",
       "[170 rows x 8 columns]"
      ],
      "text/html": "<div>\n<style scoped>\n    .dataframe tbody tr th:only-of-type {\n        vertical-align: middle;\n    }\n\n    .dataframe tbody tr th {\n        vertical-align: top;\n    }\n\n    .dataframe thead th {\n        text-align: right;\n    }\n</style>\n<table border=\"1\" class=\"dataframe\">\n  <thead>\n    <tr style=\"text-align: right;\">\n      <th></th>\n      <th>Survived</th>\n      <th>Pclass</th>\n      <th>Name</th>\n      <th>Sex</th>\n      <th>Age</th>\n      <th>Siblings/Spouses Aboard</th>\n      <th>Parents/Children Aboard</th>\n      <th>Fare</th>\n    </tr>\n  </thead>\n  <tbody>\n    <tr>\n      <th>1</th>\n      <td>1</td>\n      <td>1</td>\n      <td>Mrs. John Bradley (Florence Briggs Thayer) Cum...</td>\n      <td>female</td>\n      <td>38.0</td>\n      <td>1</td>\n      <td>0</td>\n      <td>71.2833</td>\n    </tr>\n    <tr>\n      <th>3</th>\n      <td>1</td>\n      <td>1</td>\n      <td>Mrs. Jacques Heath (Lily May Peel) Futrelle</td>\n      <td>female</td>\n      <td>35.0</td>\n      <td>1</td>\n      <td>0</td>\n      <td>53.1000</td>\n    </tr>\n    <tr>\n      <th>9</th>\n      <td>1</td>\n      <td>2</td>\n      <td>Mrs. Nicholas (Adele Achem) Nasser</td>\n      <td>female</td>\n      <td>14.0</td>\n      <td>1</td>\n      <td>0</td>\n      <td>30.0708</td>\n    </tr>\n    <tr>\n      <th>11</th>\n      <td>1</td>\n      <td>1</td>\n      <td>Miss. Elizabeth Bonnell</td>\n      <td>female</td>\n      <td>58.0</td>\n      <td>0</td>\n      <td>0</td>\n      <td>26.5500</td>\n    </tr>\n    <tr>\n      <th>15</th>\n      <td>1</td>\n      <td>2</td>\n      <td>Mrs. (Mary D Kingcome) Hewlett</td>\n      <td>female</td>\n      <td>55.0</td>\n      <td>0</td>\n      <td>0</td>\n      <td>16.0000</td>\n    </tr>\n    <tr>\n      <th>...</th>\n      <td>...</td>\n      <td>...</td>\n      <td>...</td>\n      <td>...</td>\n      <td>...</td>\n      <td>...</td>\n      <td>...</td>\n      <td>...</td>\n    </tr>\n    <tr>\n      <th>867</th>\n      <td>1</td>\n      <td>1</td>\n      <td>Mrs. Richard Leonard (Sallie Monypeny) Beckwith</td>\n      <td>female</td>\n      <td>47.0</td>\n      <td>1</td>\n      <td>1</td>\n      <td>52.5542</td>\n    </tr>\n    <tr>\n      <th>870</th>\n      <td>1</td>\n      <td>2</td>\n      <td>Mrs. Samuel (Hannah Wizosky) Abelson</td>\n      <td>female</td>\n      <td>28.0</td>\n      <td>1</td>\n      <td>0</td>\n      <td>24.0000</td>\n    </tr>\n    <tr>\n      <th>875</th>\n      <td>1</td>\n      <td>1</td>\n      <td>Mrs. Thomas Jr (Lily Alexenia Wilson) Potter</td>\n      <td>female</td>\n      <td>56.0</td>\n      <td>0</td>\n      <td>1</td>\n      <td>83.1583</td>\n    </tr>\n    <tr>\n      <th>876</th>\n      <td>1</td>\n      <td>2</td>\n      <td>Mrs. William (Imanita Parrish Hall) Shelley</td>\n      <td>female</td>\n      <td>25.0</td>\n      <td>0</td>\n      <td>1</td>\n      <td>26.0000</td>\n    </tr>\n    <tr>\n      <th>883</th>\n      <td>1</td>\n      <td>1</td>\n      <td>Miss. Margaret Edith Graham</td>\n      <td>female</td>\n      <td>19.0</td>\n      <td>0</td>\n      <td>0</td>\n      <td>30.0000</td>\n    </tr>\n  </tbody>\n</table>\n<p>170 rows × 8 columns</p>\n</div>"
     },
     "metadata": {},
     "execution_count": 28
    }
   ],
   "source": [
    "\"\"\"criando um DataFrame somente com as mulheres que estavam na primeira e segunda classe\n",
    "\"\"\"\n",
    "filtro_mulher = df_titanic['Sex'] == 'female'\n",
    "filtro_classe1 = df_titanic['Pclass'] == 1\n",
    "filtro_classe2 = df_titanic['Pclass'] == 2\n",
    "\n",
    "df_titanic_mulher_c1_c2 = df_titanic.loc[(filtro_mulher) & ((filtro_classe1) | (filtro_classe2))]\n",
    "\n",
    "df_titanic_mulher_c1_c2\n",
    "\n"
   ]
  },
  {
   "cell_type": "code",
   "execution_count": 29,
   "metadata": {},
   "outputs": [
    {
     "output_type": "execute_result",
     "data": {
      "text/plain": [
       "     Survived  Pclass                                               Name  \\\n",
       "1           1       1  Mrs. John Bradley (Florence Briggs Thayer) Cum...   \n",
       "2           1       3                              Miss. Laina Heikkinen   \n",
       "3           1       1        Mrs. Jacques Heath (Lily May Peel) Futrelle   \n",
       "8           1       3   Mrs. Oscar W (Elisabeth Vilhelmina Berg) Johnson   \n",
       "9           1       2                 Mrs. Nicholas (Adele Achem) Nasser   \n",
       "..        ...     ...                                                ...   \n",
       "870         1       2               Mrs. Samuel (Hannah Wizosky) Abelson   \n",
       "871         1       3                           Miss. Adele Kiamie Najib   \n",
       "875         1       1       Mrs. Thomas Jr (Lily Alexenia Wilson) Potter   \n",
       "876         1       2        Mrs. William (Imanita Parrish Hall) Shelley   \n",
       "883         1       1                        Miss. Margaret Edith Graham   \n",
       "\n",
       "        Sex   Age  Siblings/Spouses Aboard  Parents/Children Aboard     Fare  \n",
       "1    female  38.0                        1                        0  71.2833  \n",
       "2    female  26.0                        0                        0   7.9250  \n",
       "3    female  35.0                        1                        0  53.1000  \n",
       "8    female  27.0                        0                        2  11.1333  \n",
       "9    female  14.0                        1                        0  30.0708  \n",
       "..      ...   ...                      ...                      ...      ...  \n",
       "870  female  28.0                        1                        0  24.0000  \n",
       "871  female  15.0                        0                        0   7.2250  \n",
       "875  female  56.0                        0                        1  83.1583  \n",
       "876  female  25.0                        0                        1  26.0000  \n",
       "883  female  19.0                        0                        0  30.0000  \n",
       "\n",
       "[233 rows x 8 columns]"
      ],
      "text/html": "<div>\n<style scoped>\n    .dataframe tbody tr th:only-of-type {\n        vertical-align: middle;\n    }\n\n    .dataframe tbody tr th {\n        vertical-align: top;\n    }\n\n    .dataframe thead th {\n        text-align: right;\n    }\n</style>\n<table border=\"1\" class=\"dataframe\">\n  <thead>\n    <tr style=\"text-align: right;\">\n      <th></th>\n      <th>Survived</th>\n      <th>Pclass</th>\n      <th>Name</th>\n      <th>Sex</th>\n      <th>Age</th>\n      <th>Siblings/Spouses Aboard</th>\n      <th>Parents/Children Aboard</th>\n      <th>Fare</th>\n    </tr>\n  </thead>\n  <tbody>\n    <tr>\n      <th>1</th>\n      <td>1</td>\n      <td>1</td>\n      <td>Mrs. John Bradley (Florence Briggs Thayer) Cum...</td>\n      <td>female</td>\n      <td>38.0</td>\n      <td>1</td>\n      <td>0</td>\n      <td>71.2833</td>\n    </tr>\n    <tr>\n      <th>2</th>\n      <td>1</td>\n      <td>3</td>\n      <td>Miss. Laina Heikkinen</td>\n      <td>female</td>\n      <td>26.0</td>\n      <td>0</td>\n      <td>0</td>\n      <td>7.9250</td>\n    </tr>\n    <tr>\n      <th>3</th>\n      <td>1</td>\n      <td>1</td>\n      <td>Mrs. Jacques Heath (Lily May Peel) Futrelle</td>\n      <td>female</td>\n      <td>35.0</td>\n      <td>1</td>\n      <td>0</td>\n      <td>53.1000</td>\n    </tr>\n    <tr>\n      <th>8</th>\n      <td>1</td>\n      <td>3</td>\n      <td>Mrs. Oscar W (Elisabeth Vilhelmina Berg) Johnson</td>\n      <td>female</td>\n      <td>27.0</td>\n      <td>0</td>\n      <td>2</td>\n      <td>11.1333</td>\n    </tr>\n    <tr>\n      <th>9</th>\n      <td>1</td>\n      <td>2</td>\n      <td>Mrs. Nicholas (Adele Achem) Nasser</td>\n      <td>female</td>\n      <td>14.0</td>\n      <td>1</td>\n      <td>0</td>\n      <td>30.0708</td>\n    </tr>\n    <tr>\n      <th>...</th>\n      <td>...</td>\n      <td>...</td>\n      <td>...</td>\n      <td>...</td>\n      <td>...</td>\n      <td>...</td>\n      <td>...</td>\n      <td>...</td>\n    </tr>\n    <tr>\n      <th>870</th>\n      <td>1</td>\n      <td>2</td>\n      <td>Mrs. Samuel (Hannah Wizosky) Abelson</td>\n      <td>female</td>\n      <td>28.0</td>\n      <td>1</td>\n      <td>0</td>\n      <td>24.0000</td>\n    </tr>\n    <tr>\n      <th>871</th>\n      <td>1</td>\n      <td>3</td>\n      <td>Miss. Adele Kiamie Najib</td>\n      <td>female</td>\n      <td>15.0</td>\n      <td>0</td>\n      <td>0</td>\n      <td>7.2250</td>\n    </tr>\n    <tr>\n      <th>875</th>\n      <td>1</td>\n      <td>1</td>\n      <td>Mrs. Thomas Jr (Lily Alexenia Wilson) Potter</td>\n      <td>female</td>\n      <td>56.0</td>\n      <td>0</td>\n      <td>1</td>\n      <td>83.1583</td>\n    </tr>\n    <tr>\n      <th>876</th>\n      <td>1</td>\n      <td>2</td>\n      <td>Mrs. William (Imanita Parrish Hall) Shelley</td>\n      <td>female</td>\n      <td>25.0</td>\n      <td>0</td>\n      <td>1</td>\n      <td>26.0000</td>\n    </tr>\n    <tr>\n      <th>883</th>\n      <td>1</td>\n      <td>1</td>\n      <td>Miss. Margaret Edith Graham</td>\n      <td>female</td>\n      <td>19.0</td>\n      <td>0</td>\n      <td>0</td>\n      <td>30.0000</td>\n    </tr>\n  </tbody>\n</table>\n<p>233 rows × 8 columns</p>\n</div>"
     },
     "metadata": {},
     "execution_count": 29
    }
   ],
   "source": [
    "\"\"\"criando um DataFrame somente com as mulheres que sobreviveram\n",
    "\"\"\"\n",
    "df_titanic_mulher_sobreviventes = df_titanic.loc[(filtro_mulher) & (filtro_sobreviventes)]\n",
    "df_titanic_mulher_sobreviventes"
   ]
  },
  {
   "cell_type": "code",
   "execution_count": null,
   "metadata": {},
   "outputs": [],
   "source": []
  }
 ]
}