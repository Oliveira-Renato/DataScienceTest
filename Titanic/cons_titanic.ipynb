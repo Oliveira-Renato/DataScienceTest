{
 "cells": [
  {
   "source": [
    "# Consultas no data set do Titanic\n",
    "##  Primeiro, farei algumas alterações na base de dados para depois fazer a extração de informações"
   ],
   "cell_type": "markdown",
   "metadata": {}
  },
  {
   "cell_type": "code",
   "execution_count": 3,
   "id": "5e23f860-2e0a-4b4f-a1c2-5c86aa0f9ff4",
   "metadata": {},
   "outputs": [],
   "source": [
    "import pandas as pd\n",
    "\n",
    "df_titanic = pd.read_csv(\"data.csv\")"
   ]
  },
  {
   "cell_type": "code",
   "execution_count": 4,
   "id": "3fb28ced-f31e-411a-9a3f-c5518100b87d",
   "metadata": {},
   "outputs": [
    {
     "output_type": "stream",
     "name": "stdout",
     "text": [
      "<class 'pandas.core.frame.DataFrame'>\nRangeIndex: 887 entries, 0 to 886\nData columns (total 8 columns):\n #   Column                   Non-Null Count  Dtype  \n---  ------                   --------------  -----  \n 0   Survived                 887 non-null    int64  \n 1   Pclass                   887 non-null    int64  \n 2   Name                     887 non-null    object \n 3   Sex                      887 non-null    object \n 4   Age                      887 non-null    float64\n 5   Siblings/Spouses Aboard  887 non-null    int64  \n 6   Parents/Children Aboard  887 non-null    int64  \n 7   Fare                     887 non-null    float64\ndtypes: float64(2), int64(4), object(2)\nmemory usage: 55.6+ KB\nNone\n"
     ]
    },
    {
     "output_type": "execute_result",
     "data": {
      "text/plain": [
       "   Survived  Pclass                                               Name  \\\n",
       "0         0       3                             Mr. Owen Harris Braund   \n",
       "1         1       1  Mrs. John Bradley (Florence Briggs Thayer) Cum...   \n",
       "2         1       3                              Miss. Laina Heikkinen   \n",
       "3         1       1        Mrs. Jacques Heath (Lily May Peel) Futrelle   \n",
       "4         0       3                            Mr. William Henry Allen   \n",
       "\n",
       "      Sex   Age  Siblings/Spouses Aboard  Parents/Children Aboard     Fare  \n",
       "0    male  22.0                        1                        0   7.2500  \n",
       "1  female  38.0                        1                        0  71.2833  \n",
       "2  female  26.0                        0                        0   7.9250  \n",
       "3  female  35.0                        1                        0  53.1000  \n",
       "4    male  35.0                        0                        0   8.0500  "
      ],
      "text/html": "<div>\n<style scoped>\n    .dataframe tbody tr th:only-of-type {\n        vertical-align: middle;\n    }\n\n    .dataframe tbody tr th {\n        vertical-align: top;\n    }\n\n    .dataframe thead th {\n        text-align: right;\n    }\n</style>\n<table border=\"1\" class=\"dataframe\">\n  <thead>\n    <tr style=\"text-align: right;\">\n      <th></th>\n      <th>Survived</th>\n      <th>Pclass</th>\n      <th>Name</th>\n      <th>Sex</th>\n      <th>Age</th>\n      <th>Siblings/Spouses Aboard</th>\n      <th>Parents/Children Aboard</th>\n      <th>Fare</th>\n    </tr>\n  </thead>\n  <tbody>\n    <tr>\n      <th>0</th>\n      <td>0</td>\n      <td>3</td>\n      <td>Mr. Owen Harris Braund</td>\n      <td>male</td>\n      <td>22.0</td>\n      <td>1</td>\n      <td>0</td>\n      <td>7.2500</td>\n    </tr>\n    <tr>\n      <th>1</th>\n      <td>1</td>\n      <td>1</td>\n      <td>Mrs. John Bradley (Florence Briggs Thayer) Cum...</td>\n      <td>female</td>\n      <td>38.0</td>\n      <td>1</td>\n      <td>0</td>\n      <td>71.2833</td>\n    </tr>\n    <tr>\n      <th>2</th>\n      <td>1</td>\n      <td>3</td>\n      <td>Miss. Laina Heikkinen</td>\n      <td>female</td>\n      <td>26.0</td>\n      <td>0</td>\n      <td>0</td>\n      <td>7.9250</td>\n    </tr>\n    <tr>\n      <th>3</th>\n      <td>1</td>\n      <td>1</td>\n      <td>Mrs. Jacques Heath (Lily May Peel) Futrelle</td>\n      <td>female</td>\n      <td>35.0</td>\n      <td>1</td>\n      <td>0</td>\n      <td>53.1000</td>\n    </tr>\n    <tr>\n      <th>4</th>\n      <td>0</td>\n      <td>3</td>\n      <td>Mr. William Henry Allen</td>\n      <td>male</td>\n      <td>35.0</td>\n      <td>0</td>\n      <td>0</td>\n      <td>8.0500</td>\n    </tr>\n  </tbody>\n</table>\n</div>"
     },
     "metadata": {},
     "execution_count": 4
    }
   ],
   "source": [
    "print(df_titanic.info())\n",
    "df_titanic.head()"
   ]
  },
  {
   "source": [
    "##  Removendo linhas duplicadas na base de dados "
   ],
   "cell_type": "markdown",
   "metadata": {}
  },
  {
   "cell_type": "code",
   "execution_count": 5,
   "id": "280cc54c-cf52-4600-a344-4b5e12a85381",
   "metadata": {},
   "outputs": [],
   "source": [
    "df_titanic.drop_duplicates(keep='last', inplace=True )"
   ]
  },
  {
   "source": [
    "## Alterando generos para letras maiusculas, e o tipo da idade para Int"
   ],
   "cell_type": "markdown",
   "metadata": {}
  },
  {
   "cell_type": "code",
   "execution_count": 6,
   "id": "3b63707c-0b10-407c-931b-481456485dbe",
   "metadata": {},
   "outputs": [
    {
     "output_type": "stream",
     "name": "stdout",
     "text": [
      "Survived                     int64\nPclass                       int64\nName                        object\nSex                         object\nAge                          int32\nSiblings/Spouses Aboard      int64\nParents/Children Aboard      int64\nFare                       float64\ndtype: object\n"
     ]
    },
    {
     "output_type": "execute_result",
     "data": {
      "text/plain": [
       "   Survived  Pclass                                               Name  \\\n",
       "0         0       3                             Mr. Owen Harris Braund   \n",
       "1         1       1  Mrs. John Bradley (Florence Briggs Thayer) Cum...   \n",
       "\n",
       "      Sex  Age  Siblings/Spouses Aboard  Parents/Children Aboard     Fare  \n",
       "0    MALE   22                        1                        0   7.2500  \n",
       "1  FEMALE   38                        1                        0  71.2833  "
      ],
      "text/html": "<div>\n<style scoped>\n    .dataframe tbody tr th:only-of-type {\n        vertical-align: middle;\n    }\n\n    .dataframe tbody tr th {\n        vertical-align: top;\n    }\n\n    .dataframe thead th {\n        text-align: right;\n    }\n</style>\n<table border=\"1\" class=\"dataframe\">\n  <thead>\n    <tr style=\"text-align: right;\">\n      <th></th>\n      <th>Survived</th>\n      <th>Pclass</th>\n      <th>Name</th>\n      <th>Sex</th>\n      <th>Age</th>\n      <th>Siblings/Spouses Aboard</th>\n      <th>Parents/Children Aboard</th>\n      <th>Fare</th>\n    </tr>\n  </thead>\n  <tbody>\n    <tr>\n      <th>0</th>\n      <td>0</td>\n      <td>3</td>\n      <td>Mr. Owen Harris Braund</td>\n      <td>MALE</td>\n      <td>22</td>\n      <td>1</td>\n      <td>0</td>\n      <td>7.2500</td>\n    </tr>\n    <tr>\n      <th>1</th>\n      <td>1</td>\n      <td>1</td>\n      <td>Mrs. John Bradley (Florence Briggs Thayer) Cum...</td>\n      <td>FEMALE</td>\n      <td>38</td>\n      <td>1</td>\n      <td>0</td>\n      <td>71.2833</td>\n    </tr>\n  </tbody>\n</table>\n</div>"
     },
     "metadata": {},
     "execution_count": 6
    }
   ],
   "source": [
    "df_titanic['Sex'] = df_titanic['Sex'].str.upper()\n",
    "df_titanic['Age'] = df_titanic['Age'].astype(int)\n",
    "\n",
    "print(df_titanic.dtypes)\n",
    "df_titanic.head(2)"
   ]
  },
  {
   "source": [
    "## Criando uma nova coluna a partir da soma das colunas 'Siblings' e 'Parents'"
   ],
   "cell_type": "markdown",
   "metadata": {}
  },
  {
   "cell_type": "code",
   "execution_count": 7,
   "id": "f453641c-1996-454e-bd16-bcee7178601b",
   "metadata": {},
   "outputs": [
    {
     "output_type": "execute_result",
     "data": {
      "text/plain": [
       "   Survived  Pclass                                               Name  \\\n",
       "0         0       3                             Mr. Owen Harris Braund   \n",
       "1         1       1  Mrs. John Bradley (Florence Briggs Thayer) Cum...   \n",
       "2         1       3                              Miss. Laina Heikkinen   \n",
       "3         1       1        Mrs. Jacques Heath (Lily May Peel) Futrelle   \n",
       "4         0       3                            Mr. William Henry Allen   \n",
       "\n",
       "      Sex  Age  Siblings/Spouses Aboard  Parents/Children Aboard     Fare  \\\n",
       "0    MALE   22                        1                        0   7.2500   \n",
       "1  FEMALE   38                        1                        0  71.2833   \n",
       "2  FEMALE   26                        0                        0   7.9250   \n",
       "3  FEMALE   35                        1                        0  53.1000   \n",
       "4    MALE   35                        0                        0   8.0500   \n",
       "\n",
       "   n_relatives  \n",
       "0            1  \n",
       "1            1  \n",
       "2            0  \n",
       "3            1  \n",
       "4            0  "
      ],
      "text/html": "<div>\n<style scoped>\n    .dataframe tbody tr th:only-of-type {\n        vertical-align: middle;\n    }\n\n    .dataframe tbody tr th {\n        vertical-align: top;\n    }\n\n    .dataframe thead th {\n        text-align: right;\n    }\n</style>\n<table border=\"1\" class=\"dataframe\">\n  <thead>\n    <tr style=\"text-align: right;\">\n      <th></th>\n      <th>Survived</th>\n      <th>Pclass</th>\n      <th>Name</th>\n      <th>Sex</th>\n      <th>Age</th>\n      <th>Siblings/Spouses Aboard</th>\n      <th>Parents/Children Aboard</th>\n      <th>Fare</th>\n      <th>n_relatives</th>\n    </tr>\n  </thead>\n  <tbody>\n    <tr>\n      <th>0</th>\n      <td>0</td>\n      <td>3</td>\n      <td>Mr. Owen Harris Braund</td>\n      <td>MALE</td>\n      <td>22</td>\n      <td>1</td>\n      <td>0</td>\n      <td>7.2500</td>\n      <td>1</td>\n    </tr>\n    <tr>\n      <th>1</th>\n      <td>1</td>\n      <td>1</td>\n      <td>Mrs. John Bradley (Florence Briggs Thayer) Cum...</td>\n      <td>FEMALE</td>\n      <td>38</td>\n      <td>1</td>\n      <td>0</td>\n      <td>71.2833</td>\n      <td>1</td>\n    </tr>\n    <tr>\n      <th>2</th>\n      <td>1</td>\n      <td>3</td>\n      <td>Miss. Laina Heikkinen</td>\n      <td>FEMALE</td>\n      <td>26</td>\n      <td>0</td>\n      <td>0</td>\n      <td>7.9250</td>\n      <td>0</td>\n    </tr>\n    <tr>\n      <th>3</th>\n      <td>1</td>\n      <td>1</td>\n      <td>Mrs. Jacques Heath (Lily May Peel) Futrelle</td>\n      <td>FEMALE</td>\n      <td>35</td>\n      <td>1</td>\n      <td>0</td>\n      <td>53.1000</td>\n      <td>1</td>\n    </tr>\n    <tr>\n      <th>4</th>\n      <td>0</td>\n      <td>3</td>\n      <td>Mr. William Henry Allen</td>\n      <td>MALE</td>\n      <td>35</td>\n      <td>0</td>\n      <td>0</td>\n      <td>8.0500</td>\n      <td>0</td>\n    </tr>\n  </tbody>\n</table>\n</div>"
     },
     "metadata": {},
     "execution_count": 7
    }
   ],
   "source": [
    "df_titanic['n_relatives'] = df_titanic['Siblings/Spouses Aboard'] + df_titanic['Parents/Children Aboard']\n",
    "\n",
    "df_titanic.head()"
   ]
  },
  {
   "source": [
    "## Criando nova coluna para classificar as faixas etaria, como: criança, adolecente, adulto e idoso"
   ],
   "cell_type": "markdown",
   "metadata": {}
  },
  {
   "cell_type": "code",
   "execution_count": 8,
   "metadata": {},
   "outputs": [
    {
     "output_type": "stream",
     "name": "stdout",
     "text": [
      "<class 'pandas.core.frame.DataFrame'>\nInt64Index: 887 entries, 0 to 886\nData columns (total 10 columns):\n #   Column                   Non-Null Count  Dtype   \n---  ------                   --------------  -----   \n 0   Survived                 887 non-null    int64   \n 1   Pclass                   887 non-null    int64   \n 2   Name                     887 non-null    object  \n 3   Sex                      887 non-null    object  \n 4   Age                      887 non-null    int32   \n 5   Siblings/Spouses Aboard  887 non-null    int64   \n 6   Parents/Children Aboard  887 non-null    int64   \n 7   Fare                     887 non-null    float64 \n 8   n_relatives              887 non-null    int64   \n 9   faixa_idade              887 non-null    category\ndtypes: category(1), float64(1), int32(1), int64(5), object(2)\nmemory usage: 66.9+ KB\nNone\n"
     ]
    },
    {
     "output_type": "execute_result",
     "data": {
      "text/plain": [
       "   Survived  Pclass                                               Name  \\\n",
       "0         0       3                             Mr. Owen Harris Braund   \n",
       "1         1       1  Mrs. John Bradley (Florence Briggs Thayer) Cum...   \n",
       "2         1       3                              Miss. Laina Heikkinen   \n",
       "3         1       1        Mrs. Jacques Heath (Lily May Peel) Futrelle   \n",
       "4         0       3                            Mr. William Henry Allen   \n",
       "\n",
       "      Sex  Age  Siblings/Spouses Aboard  Parents/Children Aboard     Fare  \\\n",
       "0    MALE   22                        1                        0   7.2500   \n",
       "1  FEMALE   38                        1                        0  71.2833   \n",
       "2  FEMALE   26                        0                        0   7.9250   \n",
       "3  FEMALE   35                        1                        0  53.1000   \n",
       "4    MALE   35                        0                        0   8.0500   \n",
       "\n",
       "   n_relatives faixa_idade  \n",
       "0            1      adulto  \n",
       "1            1      adulto  \n",
       "2            0      adulto  \n",
       "3            1      adulto  \n",
       "4            0      adulto  "
      ],
      "text/html": "<div>\n<style scoped>\n    .dataframe tbody tr th:only-of-type {\n        vertical-align: middle;\n    }\n\n    .dataframe tbody tr th {\n        vertical-align: top;\n    }\n\n    .dataframe thead th {\n        text-align: right;\n    }\n</style>\n<table border=\"1\" class=\"dataframe\">\n  <thead>\n    <tr style=\"text-align: right;\">\n      <th></th>\n      <th>Survived</th>\n      <th>Pclass</th>\n      <th>Name</th>\n      <th>Sex</th>\n      <th>Age</th>\n      <th>Siblings/Spouses Aboard</th>\n      <th>Parents/Children Aboard</th>\n      <th>Fare</th>\n      <th>n_relatives</th>\n      <th>faixa_idade</th>\n    </tr>\n  </thead>\n  <tbody>\n    <tr>\n      <th>0</th>\n      <td>0</td>\n      <td>3</td>\n      <td>Mr. Owen Harris Braund</td>\n      <td>MALE</td>\n      <td>22</td>\n      <td>1</td>\n      <td>0</td>\n      <td>7.2500</td>\n      <td>1</td>\n      <td>adulto</td>\n    </tr>\n    <tr>\n      <th>1</th>\n      <td>1</td>\n      <td>1</td>\n      <td>Mrs. John Bradley (Florence Briggs Thayer) Cum...</td>\n      <td>FEMALE</td>\n      <td>38</td>\n      <td>1</td>\n      <td>0</td>\n      <td>71.2833</td>\n      <td>1</td>\n      <td>adulto</td>\n    </tr>\n    <tr>\n      <th>2</th>\n      <td>1</td>\n      <td>3</td>\n      <td>Miss. Laina Heikkinen</td>\n      <td>FEMALE</td>\n      <td>26</td>\n      <td>0</td>\n      <td>0</td>\n      <td>7.9250</td>\n      <td>0</td>\n      <td>adulto</td>\n    </tr>\n    <tr>\n      <th>3</th>\n      <td>1</td>\n      <td>1</td>\n      <td>Mrs. Jacques Heath (Lily May Peel) Futrelle</td>\n      <td>FEMALE</td>\n      <td>35</td>\n      <td>1</td>\n      <td>0</td>\n      <td>53.1000</td>\n      <td>1</td>\n      <td>adulto</td>\n    </tr>\n    <tr>\n      <th>4</th>\n      <td>0</td>\n      <td>3</td>\n      <td>Mr. William Henry Allen</td>\n      <td>MALE</td>\n      <td>35</td>\n      <td>0</td>\n      <td>0</td>\n      <td>8.0500</td>\n      <td>0</td>\n      <td>adulto</td>\n    </tr>\n  </tbody>\n</table>\n</div>"
     },
     "metadata": {},
     "execution_count": 8
    }
   ],
   "source": [
    "idade_min = df_titanic['Age'].min()\n",
    "idade_max = df_titanic['Age'].max()\n",
    "\n",
    "intervalos = [idade_min-1, 10, 18, 65, idade_max]\n",
    "rotulos = ['criança', 'adolecente', 'adulto', 'idoso']\n",
    "\n",
    "df_titanic['faixa_idade'] = pd.cut(x = df_titanic['Age'], bins= intervalos, labels= rotulos )\n",
    "\n",
    "\n",
    "print(df_titanic.info())\n",
    "df_titanic.head()"
   ]
  },
  {
   "source": [
    "##  Obtendo a contagem de registros, a quantidade de valores únicos e o valor que mais se repete"
   ],
   "cell_type": "markdown",
   "metadata": {}
  },
  {
   "cell_type": "code",
   "execution_count": 9,
   "metadata": {},
   "outputs": [
    {
     "output_type": "execute_result",
     "data": {
      "text/plain": [
       "count        887\n",
       "unique         4\n",
       "top       adulto\n",
       "freq         711\n",
       "Name: faixa_idade, dtype: object"
      ]
     },
     "metadata": {},
     "execution_count": 9
    }
   ],
   "source": [
    "df_titanic['faixa_idade'].describe()"
   ]
  },
  {
   "source": [
    "## Obtendo a frequência de cada categoria"
   ],
   "cell_type": "markdown",
   "metadata": {}
  },
  {
   "cell_type": "code",
   "execution_count": 10,
   "metadata": {},
   "outputs": [
    {
     "output_type": "execute_result",
     "data": {
      "text/plain": [
       "            counts     freqs\n",
       "categories                  \n",
       "criança         73  0.082300\n",
       "adolecente      93  0.104848\n",
       "adulto         711  0.801578\n",
       "idoso           10  0.011274"
      ],
      "text/html": "<div>\n<style scoped>\n    .dataframe tbody tr th:only-of-type {\n        vertical-align: middle;\n    }\n\n    .dataframe tbody tr th {\n        vertical-align: top;\n    }\n\n    .dataframe thead th {\n        text-align: right;\n    }\n</style>\n<table border=\"1\" class=\"dataframe\">\n  <thead>\n    <tr style=\"text-align: right;\">\n      <th></th>\n      <th>counts</th>\n      <th>freqs</th>\n    </tr>\n    <tr>\n      <th>categories</th>\n      <th></th>\n      <th></th>\n    </tr>\n  </thead>\n  <tbody>\n    <tr>\n      <th>criança</th>\n      <td>73</td>\n      <td>0.082300</td>\n    </tr>\n    <tr>\n      <th>adolecente</th>\n      <td>93</td>\n      <td>0.104848</td>\n    </tr>\n    <tr>\n      <th>adulto</th>\n      <td>711</td>\n      <td>0.801578</td>\n    </tr>\n    <tr>\n      <th>idoso</th>\n      <td>10</td>\n      <td>0.011274</td>\n    </tr>\n  </tbody>\n</table>\n</div>"
     },
     "metadata": {},
     "execution_count": 10
    }
   ],
   "source": [
    "pd.Categorical(df_titanic['faixa_idade']).describe()"
   ]
  },
  {
   "cell_type": "code",
   "execution_count": 11,
   "metadata": {},
   "outputs": [
    {
     "output_type": "execute_result",
     "data": {
      "text/plain": [
       "   Survived  Pclass                                               Name  \\\n",
       "0         0       3                             Mr. Owen Harris Braund   \n",
       "1         1       1  Mrs. John Bradley (Florence Briggs Thayer) Cum...   \n",
       "2         1       3                              Miss. Laina Heikkinen   \n",
       "3         1       1        Mrs. Jacques Heath (Lily May Peel) Futrelle   \n",
       "4         0       3                            Mr. William Henry Allen   \n",
       "\n",
       "      Sex  Age  Siblings/Spouses Aboard  Parents/Children Aboard     Fare  \\\n",
       "0    MALE   22                        1                        0   7.2500   \n",
       "1  FEMALE   38                        1                        0  71.2833   \n",
       "2  FEMALE   26                        0                        0   7.9250   \n",
       "3  FEMALE   35                        1                        0  53.1000   \n",
       "4    MALE   35                        0                        0   8.0500   \n",
       "\n",
       "   n_relatives faixa_idade  \n",
       "0            1      adulto  \n",
       "1            1      adulto  \n",
       "2            0      adulto  \n",
       "3            1      adulto  \n",
       "4            0      adulto  "
      ],
      "text/html": "<div>\n<style scoped>\n    .dataframe tbody tr th:only-of-type {\n        vertical-align: middle;\n    }\n\n    .dataframe tbody tr th {\n        vertical-align: top;\n    }\n\n    .dataframe thead th {\n        text-align: right;\n    }\n</style>\n<table border=\"1\" class=\"dataframe\">\n  <thead>\n    <tr style=\"text-align: right;\">\n      <th></th>\n      <th>Survived</th>\n      <th>Pclass</th>\n      <th>Name</th>\n      <th>Sex</th>\n      <th>Age</th>\n      <th>Siblings/Spouses Aboard</th>\n      <th>Parents/Children Aboard</th>\n      <th>Fare</th>\n      <th>n_relatives</th>\n      <th>faixa_idade</th>\n    </tr>\n  </thead>\n  <tbody>\n    <tr>\n      <th>0</th>\n      <td>0</td>\n      <td>3</td>\n      <td>Mr. Owen Harris Braund</td>\n      <td>MALE</td>\n      <td>22</td>\n      <td>1</td>\n      <td>0</td>\n      <td>7.2500</td>\n      <td>1</td>\n      <td>adulto</td>\n    </tr>\n    <tr>\n      <th>1</th>\n      <td>1</td>\n      <td>1</td>\n      <td>Mrs. John Bradley (Florence Briggs Thayer) Cum...</td>\n      <td>FEMALE</td>\n      <td>38</td>\n      <td>1</td>\n      <td>0</td>\n      <td>71.2833</td>\n      <td>1</td>\n      <td>adulto</td>\n    </tr>\n    <tr>\n      <th>2</th>\n      <td>1</td>\n      <td>3</td>\n      <td>Miss. Laina Heikkinen</td>\n      <td>FEMALE</td>\n      <td>26</td>\n      <td>0</td>\n      <td>0</td>\n      <td>7.9250</td>\n      <td>0</td>\n      <td>adulto</td>\n    </tr>\n    <tr>\n      <th>3</th>\n      <td>1</td>\n      <td>1</td>\n      <td>Mrs. Jacques Heath (Lily May Peel) Futrelle</td>\n      <td>FEMALE</td>\n      <td>35</td>\n      <td>1</td>\n      <td>0</td>\n      <td>53.1000</td>\n      <td>1</td>\n      <td>adulto</td>\n    </tr>\n    <tr>\n      <th>4</th>\n      <td>0</td>\n      <td>3</td>\n      <td>Mr. William Henry Allen</td>\n      <td>MALE</td>\n      <td>35</td>\n      <td>0</td>\n      <td>0</td>\n      <td>8.0500</td>\n      <td>0</td>\n      <td>adulto</td>\n    </tr>\n  </tbody>\n</table>\n</div>"
     },
     "metadata": {},
     "execution_count": 11
    }
   ],
   "source": [
    "df_titanic.head()"
   ]
  },
  {
   "source": [
    "## Removendo colunas que não serão mais necessarias"
   ],
   "cell_type": "markdown",
   "metadata": {}
  },
  {
   "cell_type": "code",
   "execution_count": 12,
   "metadata": {},
   "outputs": [
    {
     "output_type": "execute_result",
     "data": {
      "text/plain": [
       "   Survived  Pclass                                               Name  \\\n",
       "0         0       3                             Mr. Owen Harris Braund   \n",
       "1         1       1  Mrs. John Bradley (Florence Briggs Thayer) Cum...   \n",
       "2         1       3                              Miss. Laina Heikkinen   \n",
       "3         1       1        Mrs. Jacques Heath (Lily May Peel) Futrelle   \n",
       "4         0       3                            Mr. William Henry Allen   \n",
       "\n",
       "      Sex  Age     Fare  n_relatives faixa_idade  \n",
       "0    MALE   22   7.2500            1      adulto  \n",
       "1  FEMALE   38  71.2833            1      adulto  \n",
       "2  FEMALE   26   7.9250            0      adulto  \n",
       "3  FEMALE   35  53.1000            1      adulto  \n",
       "4    MALE   35   8.0500            0      adulto  "
      ],
      "text/html": "<div>\n<style scoped>\n    .dataframe tbody tr th:only-of-type {\n        vertical-align: middle;\n    }\n\n    .dataframe tbody tr th {\n        vertical-align: top;\n    }\n\n    .dataframe thead th {\n        text-align: right;\n    }\n</style>\n<table border=\"1\" class=\"dataframe\">\n  <thead>\n    <tr style=\"text-align: right;\">\n      <th></th>\n      <th>Survived</th>\n      <th>Pclass</th>\n      <th>Name</th>\n      <th>Sex</th>\n      <th>Age</th>\n      <th>Fare</th>\n      <th>n_relatives</th>\n      <th>faixa_idade</th>\n    </tr>\n  </thead>\n  <tbody>\n    <tr>\n      <th>0</th>\n      <td>0</td>\n      <td>3</td>\n      <td>Mr. Owen Harris Braund</td>\n      <td>MALE</td>\n      <td>22</td>\n      <td>7.2500</td>\n      <td>1</td>\n      <td>adulto</td>\n    </tr>\n    <tr>\n      <th>1</th>\n      <td>1</td>\n      <td>1</td>\n      <td>Mrs. John Bradley (Florence Briggs Thayer) Cum...</td>\n      <td>FEMALE</td>\n      <td>38</td>\n      <td>71.2833</td>\n      <td>1</td>\n      <td>adulto</td>\n    </tr>\n    <tr>\n      <th>2</th>\n      <td>1</td>\n      <td>3</td>\n      <td>Miss. Laina Heikkinen</td>\n      <td>FEMALE</td>\n      <td>26</td>\n      <td>7.9250</td>\n      <td>0</td>\n      <td>adulto</td>\n    </tr>\n    <tr>\n      <th>3</th>\n      <td>1</td>\n      <td>1</td>\n      <td>Mrs. Jacques Heath (Lily May Peel) Futrelle</td>\n      <td>FEMALE</td>\n      <td>35</td>\n      <td>53.1000</td>\n      <td>1</td>\n      <td>adulto</td>\n    </tr>\n    <tr>\n      <th>4</th>\n      <td>0</td>\n      <td>3</td>\n      <td>Mr. William Henry Allen</td>\n      <td>MALE</td>\n      <td>35</td>\n      <td>8.0500</td>\n      <td>0</td>\n      <td>adulto</td>\n    </tr>\n  </tbody>\n</table>\n</div>"
     },
     "metadata": {},
     "execution_count": 12
    }
   ],
   "source": [
    "df_titanic.drop(columns= ['Siblings/Spouses Aboard', 'Parents/Children Aboard'], inplace=True)\n",
    "\n",
    "df_titanic.head()"
   ]
  },
  {
   "source": [
    "# Extração de informações\n",
    "\n",
    "## Perguntas que serão respondidas:\n",
    "\n",
    "* ### Quantas classes distintas (PClass) existem?\n",
    "* ### Qual a quantidade de sobreviventes e não sobreviventes?\n",
    "* ### Quantos idosos estavam a bordo e quantos sobreviveram?\n",
    "* ### Das pessoas que sobreviveram, qual a taxa de sobrevivência entre homens e mulheres?\n",
    "* ### Qual foi o valor médio da passagem entre os que sobreviveram e os que não sobreviveram?"
   ],
   "cell_type": "markdown",
   "metadata": {}
  },
  {
   "cell_type": "code",
   "execution_count": 64,
   "metadata": {},
   "outputs": [
    {
     "output_type": "stream",
     "name": "stdout",
     "text": [
      "Classes distintas = [1, 2, 3]\n"
     ]
    }
   ],
   "source": [
    "#Quantas classes distintas (PClass) existem?\n",
    "classes = sorted(list(df_titanic['Pclass'].unique()))\n",
    "\n",
    "print(f'Classes distintas = {classes}')\n"
   ]
  },
  {
   "cell_type": "code",
   "execution_count": 25,
   "metadata": {},
   "outputs": [
    {
     "output_type": "stream",
     "name": "stdout",
     "text": [
      "Quantidade de sobreiventes = 342\nQuantidade de não sobreiventes = 545\n"
     ]
    }
   ],
   "source": [
    "#Qual a quantidade de sobreviventes e não sobreviventes?\n",
    "filtro_sobreviventes = df_titanic['Survived'] == 1\n",
    "filtro_nao_sobreviventes = df_titanic['Survived'] == 0\n",
    "\n",
    "qtde_sobreviventes = df_titanic.loc[filtro_sobreviventes].shape[0]\n",
    "qtde_nao_sobreviventes = df_titanic.loc[filtro_nao_sobreviventes].shape[0]\n",
    "\n",
    "print(f'Quantidade de sobreiventes = {qtde_sobreviventes}')\n",
    "print(f'Quantidade de não sobreiventes = {qtde_nao_sobreviventes}')\n",
    "\n"
   ]
  },
  {
   "cell_type": "code",
   "execution_count": 30,
   "metadata": {},
   "outputs": [
    {
     "output_type": "stream",
     "name": "stdout",
     "text": [
      "Quantidade de idosos a bordo = 10\nQuantidade de idosos que sobreviveram = 1\n"
     ]
    }
   ],
   "source": [
    "#Quantos idosos estavam a bordo e quantos sobreviveram?\n",
    "filtro_idosos = df_titanic['faixa_idade'] == 'idoso'\n",
    "\n",
    "qtde_idosos = df_titanic.loc[filtro_idosos].shape[0]\n",
    "qtde_idosos_sobreviventes= df_titanic.loc[(filtro_idosos) & (filtro_sobreviventes)].shape[0]\n",
    "\n",
    "print(f'Quantidade de idosos a bordo = {qtde_idosos}')\n",
    "print(f'Quantidade de idosos que sobreviveram = {qtde_idosos_sobreviventes}')"
   ]
  },
  {
   "cell_type": "code",
   "execution_count": 49,
   "metadata": {},
   "outputs": [
    {
     "output_type": "stream",
     "name": "stdout",
     "text": [
      "Taxa de sobreviventes homens = 31.9 %\nTaxa de sobreviventes mulheres = 68.1 %\n"
     ]
    }
   ],
   "source": [
    "#Das pessoas que sobreviveram, qual a taxa de sobrevivência entre homens e mulheres?\n",
    "filtro_homens = df_titanic['Sex'] == 'MALE'\n",
    "filtro_mulheres = df_titanic['Sex'] == 'FEMALE'\n",
    "\n",
    "qtde_homens_sobreviventes = df_titanic.loc[(filtro_homens) & (filtro_sobreviventes)].shape[0]\n",
    "qtde_mulheres_sobreviventes = df_titanic.loc[(filtro_mulheres) & (filtro_sobreviventes)].shape[0]\n",
    "\n",
    "#Para calcular a taxa de sobreviventes, é necessário o valor total de sobreviventes\n",
    "qtde_total_sobreviventes = df_titanic.loc[filtro_sobreviventes].shape[0]\n",
    "\n",
    "taxa_homens = qtde_homens_sobreviventes * 100 /qtde_total_sobreviventes\n",
    "taxa_mulheres = qtde_mulheres_sobreviventes * 100 /qtde_total_sobreviventes\n",
    "\n",
    "print('Taxa de sobreviventes homens = {:.1f} %'.format(taxa_homens))\n",
    "print('Taxa de sobreviventes mulheres = {:.1f} %'.format(taxa_mulheres))"
   ]
  },
  {
   "cell_type": "code",
   "execution_count": 54,
   "metadata": {},
   "outputs": [
    {
     "output_type": "stream",
     "name": "stdout",
     "text": [
      "Valor médio das passagens dos sobreviventes = $48.40\nValor médio das passagens dos não sobreviventes = $22.21\n"
     ]
    }
   ],
   "source": [
    "#Qual foi o valor médio da passagem entre os que sobreviveram e os que não sobreviveram?\n",
    "valor_medio_sobreviventes = df_titanic.loc[filtro_sobreviventes, 'Fare'].mean()\n",
    "valor_medio_nao_sobreviventes = df_titanic.loc[filtro_nao_sobreviventes, 'Fare'].mean()\n",
    "\n",
    "print('Valor médio das passagens dos sobreviventes = ${:.2f}'.format(valor_medio_sobreviventes))\n",
    "print('Valor médio das passagens dos não sobreviventes = ${:.2f}'.format(valor_medio_nao_sobreviventes))\n"
   ]
  },
  {
   "cell_type": "code",
   "execution_count": null,
   "metadata": {},
   "outputs": [],
   "source": []
  }
 ],
 "metadata": {
  "kernelspec": {
   "name": "python388jvsc74a57bd0702580cea0d478e19d3ffe7918d25df6b2517eaa93a495385908b3cccc6fb973",
   "display_name": "Python 3.8.8 64-bit ('base': conda)"
  },
  "language_info": {
   "codemirror_mode": {
    "name": "ipython",
    "version": 3
   },
   "file_extension": ".py",
   "mimetype": "text/x-python",
   "name": "python",
   "nbconvert_exporter": "python",
   "pygments_lexer": "ipython3",
   "version": "3.8.8"
  }
 },
 "nbformat": 4,
 "nbformat_minor": 5
}